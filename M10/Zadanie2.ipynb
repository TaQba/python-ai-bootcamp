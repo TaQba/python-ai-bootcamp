{
 "cells": [
  {
   "cell_type": "code",
   "execution_count": 4,
   "id": "e63fb833",
   "metadata": {},
   "outputs": [],
   "source": [
    "# manipulacja danymi\n",
    "import numpy as np\n",
    "import pandas as pd\n",
    "\n",
    "# wizualizacja danych\n",
    "import matplotlib.pyplot as plt\n",
    "import seaborn as sns\n",
    "# statystyczna analiza danych\n",
    "from scipy import stats\n"
   ]
  },
  {
   "cell_type": "code",
   "execution_count": 11,
   "id": "9c90ea77",
   "metadata": {},
   "outputs": [
    {
     "name": "stdout",
     "output_type": "stream",
     "text": [
      "Liczba obserwacji: 100\n",
      "Średnia: 2.8962\n",
      "Mediana: 2.8730\n",
      "Odchylenie standardowe: 0.9082\n",
      "Wariancja: 0.8248\n",
      "Kwartyle (25%, 50%, 75%): [2.39909433 2.87304371 3.40595205]\n",
      "Rozstęp międzykwartylowy (IQR): 1.0069\n",
      "Skośność: -0.1753\n",
      "Kurtoza: -0.1554\n",
      "----------------------------------------\n",
      "Liczba obserwacji: 10000\n",
      "Średnia: 2.9988\n",
      "Mediana: 2.9988\n",
      "Odchylenie standardowe: 1.0037\n",
      "Wariancja: 1.0075\n",
      "Kwartyle (25%, 50%, 75%): [2.32643451 2.99883484 3.67203181]\n",
      "Rozstęp międzykwartylowy (IQR): 1.3456\n",
      "Skośność: 0.0022\n",
      "Kurtoza: 0.0231\n",
      "----------------------------------------\n"
     ]
    }
   ],
   "source": [
    "np.random.seed(42)  # dla powtarzalności wyników\n",
    "data_100 = np.random.normal(loc=3, scale=1, size=100)\n",
    "data_10000 = np.random.normal(loc=3, scale=1, size=10000)\n",
    "def opis_statystyk(data):\n",
    "    print(f\"Liczba obserwacji: {len(data)}\")\n",
    "    print(f\"Średnia: {np.mean(data):.4f}\")\n",
    "    print(f\"Mediana: {np.median(data):.4f}\")\n",
    "    print(f\"Odchylenie standardowe: {np.std(data, ddof=1):.4f}\")\n",
    "    print(f\"Wariancja: {np.var(data, ddof=1):.4f}\")\n",
    "    print(f\"Kwartyle (25%, 50%, 75%): {np.percentile(data, [25, 50, 75])}\")\n",
    "    print(f\"Rozstęp międzykwartylowy (IQR): {stats.iqr(data):.4f}\")\n",
    "    print(f\"Skośność: {stats.skew(data):.4f}\")\n",
    "    print(f\"Kurtoza: {stats.kurtosis(data):.4f}\")\n",
    "    print(\"-\" * 40)\n",
    "    \n",
    "\n",
    "\n",
    "opis_statystyk(data_100)\n",
    "\n",
    "opis_statystyk(data_10000)"
   ]
  },
  {
   "cell_type": "code",
   "execution_count": null,
   "id": "d0801d77",
   "metadata": {},
   "outputs": [],
   "source": []
  }
 ],
 "metadata": {
  "kernelspec": {
   "display_name": "Python 3 (ipykernel)",
   "language": "python",
   "name": "python3"
  },
  "language_info": {
   "codemirror_mode": {
    "name": "ipython",
    "version": 3
   },
   "file_extension": ".py",
   "mimetype": "text/x-python",
   "name": "python",
   "nbconvert_exporter": "python",
   "pygments_lexer": "ipython3",
   "version": "3.12.10"
  }
 },
 "nbformat": 4,
 "nbformat_minor": 5
}
