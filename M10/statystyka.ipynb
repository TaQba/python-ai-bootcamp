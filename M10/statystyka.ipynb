{
 "cells": [
  {
   "cell_type": "code",
   "execution_count": 3,
   "id": "d7235718",
   "metadata": {},
   "outputs": [
    {
     "name": "stdout",
     "output_type": "stream",
     "text": [
      "Collecting scikit-learn\n",
      "  Downloading scikit_learn-1.7.0-cp312-cp312-macosx_12_0_arm64.whl.metadata (31 kB)\n",
      "Requirement already satisfied: numpy>=1.22.0 in /Users/jtadych/Code/venv312/lib/python3.12/site-packages (from scikit-learn) (2.1.3)\n",
      "Requirement already satisfied: scipy>=1.8.0 in /Users/jtadych/Code/venv312/lib/python3.12/site-packages (from scikit-learn) (1.15.3)\n",
      "Requirement already satisfied: joblib>=1.2.0 in /Users/jtadych/Code/venv312/lib/python3.12/site-packages (from scikit-learn) (1.5.1)\n",
      "Collecting threadpoolctl>=3.1.0 (from scikit-learn)\n",
      "  Downloading threadpoolctl-3.6.0-py3-none-any.whl.metadata (13 kB)\n",
      "Downloading scikit_learn-1.7.0-cp312-cp312-macosx_12_0_arm64.whl (10.7 MB)\n",
      "\u001b[2K   \u001b[90m━━━━━━━━━━━━━━━━━━━━━━━━━━━━━━━━━━━━━━━━\u001b[0m \u001b[32m10.7/10.7 MB\u001b[0m \u001b[31m52.4 MB/s\u001b[0m eta \u001b[36m0:00:00\u001b[0m \u001b[36m0:00:01\u001b[0m\n",
      "\u001b[?25hDownloading threadpoolctl-3.6.0-py3-none-any.whl (18 kB)\n",
      "Installing collected packages: threadpoolctl, scikit-learn\n",
      "Successfully installed scikit-learn-1.7.0 threadpoolctl-3.6.0\n",
      "\n",
      "\u001b[1m[\u001b[0m\u001b[34;49mnotice\u001b[0m\u001b[1;39;49m]\u001b[0m\u001b[39;49m A new release of pip is available: \u001b[0m\u001b[31;49m25.0.1\u001b[0m\u001b[39;49m -> \u001b[0m\u001b[32;49m25.1.1\u001b[0m\n",
      "\u001b[1m[\u001b[0m\u001b[34;49mnotice\u001b[0m\u001b[1;39;49m]\u001b[0m\u001b[39;49m To update, run: \u001b[0m\u001b[32;49mpip install --upgrade pip\u001b[0m\n",
      "Note: you may need to restart the kernel to use updated packages.\n"
     ]
    }
   ],
   "source": [
    "pip install scikit-learn\n"
   ]
  },
  {
   "cell_type": "code",
   "execution_count": 4,
   "id": "4014210b",
   "metadata": {},
   "outputs": [
    {
     "data": {
      "text/html": [
       "<div>\n",
       "<style scoped>\n",
       "    .dataframe tbody tr th:only-of-type {\n",
       "        vertical-align: middle;\n",
       "    }\n",
       "\n",
       "    .dataframe tbody tr th {\n",
       "        vertical-align: top;\n",
       "    }\n",
       "\n",
       "    .dataframe thead th {\n",
       "        text-align: right;\n",
       "    }\n",
       "</style>\n",
       "<table border=\"1\" class=\"dataframe\">\n",
       "  <thead>\n",
       "    <tr style=\"text-align: right;\">\n",
       "      <th></th>\n",
       "      <th>PassengerId</th>\n",
       "      <th>Survived</th>\n",
       "      <th>Pclass</th>\n",
       "      <th>Name</th>\n",
       "      <th>Sex</th>\n",
       "      <th>Age</th>\n",
       "      <th>SibSp</th>\n",
       "      <th>Parch</th>\n",
       "      <th>Ticket</th>\n",
       "      <th>Fare</th>\n",
       "      <th>Cabin</th>\n",
       "      <th>Embarked</th>\n",
       "    </tr>\n",
       "  </thead>\n",
       "  <tbody>\n",
       "    <tr>\n",
       "      <th>0</th>\n",
       "      <td>1</td>\n",
       "      <td>0</td>\n",
       "      <td>3</td>\n",
       "      <td>Braund, Mr. Owen Harris</td>\n",
       "      <td>male</td>\n",
       "      <td>22.0</td>\n",
       "      <td>1</td>\n",
       "      <td>0</td>\n",
       "      <td>A/5 21171</td>\n",
       "      <td>7.2500</td>\n",
       "      <td>NaN</td>\n",
       "      <td>S</td>\n",
       "    </tr>\n",
       "    <tr>\n",
       "      <th>1</th>\n",
       "      <td>2</td>\n",
       "      <td>1</td>\n",
       "      <td>1</td>\n",
       "      <td>Cumings, Mrs. John Bradley (Florence Briggs Th...</td>\n",
       "      <td>female</td>\n",
       "      <td>38.0</td>\n",
       "      <td>1</td>\n",
       "      <td>0</td>\n",
       "      <td>PC 17599</td>\n",
       "      <td>71.2833</td>\n",
       "      <td>C85</td>\n",
       "      <td>C</td>\n",
       "    </tr>\n",
       "    <tr>\n",
       "      <th>2</th>\n",
       "      <td>3</td>\n",
       "      <td>1</td>\n",
       "      <td>3</td>\n",
       "      <td>Heikkinen, Miss. Laina</td>\n",
       "      <td>female</td>\n",
       "      <td>26.0</td>\n",
       "      <td>0</td>\n",
       "      <td>0</td>\n",
       "      <td>STON/O2. 3101282</td>\n",
       "      <td>7.9250</td>\n",
       "      <td>NaN</td>\n",
       "      <td>S</td>\n",
       "    </tr>\n",
       "    <tr>\n",
       "      <th>3</th>\n",
       "      <td>4</td>\n",
       "      <td>1</td>\n",
       "      <td>1</td>\n",
       "      <td>Futrelle, Mrs. Jacques Heath (Lily May Peel)</td>\n",
       "      <td>female</td>\n",
       "      <td>35.0</td>\n",
       "      <td>1</td>\n",
       "      <td>0</td>\n",
       "      <td>113803</td>\n",
       "      <td>53.1000</td>\n",
       "      <td>C123</td>\n",
       "      <td>S</td>\n",
       "    </tr>\n",
       "    <tr>\n",
       "      <th>4</th>\n",
       "      <td>5</td>\n",
       "      <td>0</td>\n",
       "      <td>3</td>\n",
       "      <td>Allen, Mr. William Henry</td>\n",
       "      <td>male</td>\n",
       "      <td>35.0</td>\n",
       "      <td>0</td>\n",
       "      <td>0</td>\n",
       "      <td>373450</td>\n",
       "      <td>8.0500</td>\n",
       "      <td>NaN</td>\n",
       "      <td>S</td>\n",
       "    </tr>\n",
       "    <tr>\n",
       "      <th>...</th>\n",
       "      <td>...</td>\n",
       "      <td>...</td>\n",
       "      <td>...</td>\n",
       "      <td>...</td>\n",
       "      <td>...</td>\n",
       "      <td>...</td>\n",
       "      <td>...</td>\n",
       "      <td>...</td>\n",
       "      <td>...</td>\n",
       "      <td>...</td>\n",
       "      <td>...</td>\n",
       "      <td>...</td>\n",
       "    </tr>\n",
       "    <tr>\n",
       "      <th>886</th>\n",
       "      <td>887</td>\n",
       "      <td>0</td>\n",
       "      <td>2</td>\n",
       "      <td>Montvila, Rev. Juozas</td>\n",
       "      <td>male</td>\n",
       "      <td>27.0</td>\n",
       "      <td>0</td>\n",
       "      <td>0</td>\n",
       "      <td>211536</td>\n",
       "      <td>13.0000</td>\n",
       "      <td>NaN</td>\n",
       "      <td>S</td>\n",
       "    </tr>\n",
       "    <tr>\n",
       "      <th>887</th>\n",
       "      <td>888</td>\n",
       "      <td>1</td>\n",
       "      <td>1</td>\n",
       "      <td>Graham, Miss. Margaret Edith</td>\n",
       "      <td>female</td>\n",
       "      <td>19.0</td>\n",
       "      <td>0</td>\n",
       "      <td>0</td>\n",
       "      <td>112053</td>\n",
       "      <td>30.0000</td>\n",
       "      <td>B42</td>\n",
       "      <td>S</td>\n",
       "    </tr>\n",
       "    <tr>\n",
       "      <th>888</th>\n",
       "      <td>889</td>\n",
       "      <td>0</td>\n",
       "      <td>3</td>\n",
       "      <td>Johnston, Miss. Catherine Helen \"Carrie\"</td>\n",
       "      <td>female</td>\n",
       "      <td>NaN</td>\n",
       "      <td>1</td>\n",
       "      <td>2</td>\n",
       "      <td>W./C. 6607</td>\n",
       "      <td>23.4500</td>\n",
       "      <td>NaN</td>\n",
       "      <td>S</td>\n",
       "    </tr>\n",
       "    <tr>\n",
       "      <th>889</th>\n",
       "      <td>890</td>\n",
       "      <td>1</td>\n",
       "      <td>1</td>\n",
       "      <td>Behr, Mr. Karl Howell</td>\n",
       "      <td>male</td>\n",
       "      <td>26.0</td>\n",
       "      <td>0</td>\n",
       "      <td>0</td>\n",
       "      <td>111369</td>\n",
       "      <td>30.0000</td>\n",
       "      <td>C148</td>\n",
       "      <td>C</td>\n",
       "    </tr>\n",
       "    <tr>\n",
       "      <th>890</th>\n",
       "      <td>891</td>\n",
       "      <td>0</td>\n",
       "      <td>3</td>\n",
       "      <td>Dooley, Mr. Patrick</td>\n",
       "      <td>male</td>\n",
       "      <td>32.0</td>\n",
       "      <td>0</td>\n",
       "      <td>0</td>\n",
       "      <td>370376</td>\n",
       "      <td>7.7500</td>\n",
       "      <td>NaN</td>\n",
       "      <td>Q</td>\n",
       "    </tr>\n",
       "  </tbody>\n",
       "</table>\n",
       "<p>891 rows × 12 columns</p>\n",
       "</div>"
      ],
      "text/plain": [
       "     PassengerId  Survived  Pclass  \\\n",
       "0              1         0       3   \n",
       "1              2         1       1   \n",
       "2              3         1       3   \n",
       "3              4         1       1   \n",
       "4              5         0       3   \n",
       "..           ...       ...     ...   \n",
       "886          887         0       2   \n",
       "887          888         1       1   \n",
       "888          889         0       3   \n",
       "889          890         1       1   \n",
       "890          891         0       3   \n",
       "\n",
       "                                                  Name     Sex   Age  SibSp  \\\n",
       "0                              Braund, Mr. Owen Harris    male  22.0      1   \n",
       "1    Cumings, Mrs. John Bradley (Florence Briggs Th...  female  38.0      1   \n",
       "2                               Heikkinen, Miss. Laina  female  26.0      0   \n",
       "3         Futrelle, Mrs. Jacques Heath (Lily May Peel)  female  35.0      1   \n",
       "4                             Allen, Mr. William Henry    male  35.0      0   \n",
       "..                                                 ...     ...   ...    ...   \n",
       "886                              Montvila, Rev. Juozas    male  27.0      0   \n",
       "887                       Graham, Miss. Margaret Edith  female  19.0      0   \n",
       "888           Johnston, Miss. Catherine Helen \"Carrie\"  female   NaN      1   \n",
       "889                              Behr, Mr. Karl Howell    male  26.0      0   \n",
       "890                                Dooley, Mr. Patrick    male  32.0      0   \n",
       "\n",
       "     Parch            Ticket     Fare Cabin Embarked  \n",
       "0        0         A/5 21171   7.2500   NaN        S  \n",
       "1        0          PC 17599  71.2833   C85        C  \n",
       "2        0  STON/O2. 3101282   7.9250   NaN        S  \n",
       "3        0            113803  53.1000  C123        S  \n",
       "4        0            373450   8.0500   NaN        S  \n",
       "..     ...               ...      ...   ...      ...  \n",
       "886      0            211536  13.0000   NaN        S  \n",
       "887      0            112053  30.0000   B42        S  \n",
       "888      2        W./C. 6607  23.4500   NaN        S  \n",
       "889      0            111369  30.0000  C148        C  \n",
       "890      0            370376   7.7500   NaN        Q  \n",
       "\n",
       "[891 rows x 12 columns]"
      ]
     },
     "execution_count": 4,
     "metadata": {},
     "output_type": "execute_result"
    }
   ],
   "source": [
    "# manipulacja danymi\n",
    "import numpy as np\n",
    "import pandas as pd\n",
    "\n",
    "# wizualizacja danych\n",
    "import matplotlib.pyplot as plt\n",
    "import seaborn as sns\n",
    "\n",
    "# statystyczna analiza danych\n",
    "from scipy import stats\n",
    "\n",
    "# przygotowanie danych\n",
    "from sklearn.preprocessing import StandardScaler, MinMaxScaler\n",
    "dataset = pd.read_csv('titanic.csv')\n",
    "dataset"
   ]
  },
  {
   "cell_type": "code",
   "execution_count": 5,
   "id": "577eede2",
   "metadata": {},
   "outputs": [
    {
     "name": "stdout",
     "output_type": "stream",
     "text": [
      "(714,)\n"
     ]
    }
   ],
   "source": [
    "age_values = dataset.loc[dataset['Age'].notnull(), 'Age'].values\n",
    "print(age_values.shape)"
   ]
  },
  {
   "cell_type": "code",
   "execution_count": 6,
   "id": "46103fe3",
   "metadata": {},
   "outputs": [
    {
     "data": {
      "image/png": "[encoded data removed]",
      "text/plain": [
       "<Figure size 640x480 with 1 Axes>"
      ]
     },
     "metadata": {},
     "output_type": "display_data"
    }
   ],
   "source": [
    "plt.hist(age_values, bins=20)\n",
    "plt.show()"
   ]
  },
  {
   "cell_type": "markdown",
   "id": "e5a3aca0",
   "metadata": {},
   "source": [
    "### Średnia"
   ]
  },
  {
   "cell_type": "code",
   "execution_count": 7,
   "id": "070350b7",
   "metadata": {},
   "outputs": [
    {
     "name": "stdout",
     "output_type": "stream",
     "text": [
      "30.0\n"
     ]
    }
   ],
   "source": [
    "mean_age = np.round(np.mean(age_values))\n",
    "print(mean_age)"
   ]
  },
  {
   "cell_type": "code",
   "execution_count": 8,
   "id": "e0e1a535",
   "metadata": {},
   "outputs": [
    {
     "data": {
      "image/png": "[encoded data removed]",
      "text/plain": [
       "<Figure size 640x480 with 1 Axes>"
      ]
     },
     "metadata": {},
     "output_type": "display_data"
    }
   ],
   "source": [
    "plt.hist(age_values, bins=20)\n",
    "plt.axvline(x = mean_age, color='red', label = 'Średnia')\n",
    "plt.legend(loc='upper right')\n",
    "plt.show()"
   ]
  },
  {
   "cell_type": "markdown",
   "id": "a2e6bf3b",
   "metadata": {},
   "source": [
    "### Mediana"
   ]
  },
  {
   "cell_type": "code",
   "execution_count": 9,
   "id": "8127dce3",
   "metadata": {},
   "outputs": [
    {
     "name": "stdout",
     "output_type": "stream",
     "text": [
      "28.0\n"
     ]
    }
   ],
   "source": [
    "median_age = np.median(age_values)\n",
    "print(median_age)"
   ]
  },
  {
   "cell_type": "code",
   "execution_count": 11,
   "id": "a2169ee7",
   "metadata": {},
   "outputs": [
    {
     "data": {
      "image/png": "[encoded data removed]",
      "text/plain": [
       "<Figure size 640x480 with 1 Axes>"
      ]
     },
     "metadata": {},
     "output_type": "display_data"
    }
   ],
   "source": [
    "plt.hist(age_values, bins=20)\n",
    "plt.axvline(x = mean_age, color='red', label = 'Średnia')\n",
    "plt.axvline(x = median_age, color='green', label = 'Mediana')\n",
    "plt.legend(loc='upper right')\n",
    "plt.show()"
   ]
  },
  {
   "cell_type": "markdown",
   "id": "486a52fc",
   "metadata": {},
   "source": [
    "### Moda"
   ]
  },
  {
   "cell_type": "code",
   "execution_count": 12,
   "id": "893c5359",
   "metadata": {},
   "outputs": [
    {
     "name": "stdout",
     "output_type": "stream",
     "text": [
      "ModeResult(mode=np.float64(24.0), count=np.int64(30))\n"
     ]
    }
   ],
   "source": [
    "mode_age = stats.mode(age_values)\n",
    "print(mode_age)"
   ]
  },
  {
   "cell_type": "code",
   "execution_count": 13,
   "id": "3db22cef",
   "metadata": {},
   "outputs": [
    {
     "data": {
      "image/png": "[encoded data removed]",
      "text/plain": [
       "<Figure size 640x480 with 1 Axes>"
      ]
     },
     "metadata": {},
     "output_type": "display_data"
    }
   ],
   "source": [
    "plt.hist(age_values, bins=20)\n",
    "plt.axvline(x = mean_age, color='red', label = 'Średnia')\n",
    "plt.axvline(x = median_age, color='green', label = 'Mediana')\n",
    "plt.axvline(x = mode_age[0], color='orange', label = 'Moda')\n",
    "plt.legend(loc='upper right')\n",
    "plt.show()"
   ]
  },
  {
   "cell_type": "markdown",
   "id": "f4c12a21",
   "metadata": {},
   "source": [
    "### Kwartyle"
   ]
  },
  {
   "cell_type": "code",
   "execution_count": 14,
   "id": "5f699f0f",
   "metadata": {},
   "outputs": [
    {
     "name": "stdout",
     "output_type": "stream",
     "text": [
      "Q0: 0.42\n",
      "Q1: 20.0\n",
      "Q2: 28.0\n",
      "Q3: 38.0\n",
      "Q4: 80.0\n"
     ]
    }
   ],
   "source": [
    "q0 = np.quantile(age_values, 0.0)\n",
    "q1 = np.round(np.quantile(age_values, 0.25))\n",
    "q3 = np.round(np.quantile(age_values, 0.75))\n",
    "q4 = np.round(np.quantile(age_values, 1.0))\n",
    "print(f'Q0: {q0}')\n",
    "print(f'Q1: {q1}')\n",
    "print(f'Q2: {median_age}')\n",
    "print(f'Q3: {q3}')\n",
    "print(f'Q4: {q4}')"
   ]
  },
  {
   "cell_type": "code",
   "execution_count": 15,
   "id": "2023d736",
   "metadata": {},
   "outputs": [
    {
     "data": {
      "image/png": "[encoded data removed]",
      "text/plain": [
       "<Figure size 640x480 with 1 Axes>"
      ]
     },
     "metadata": {},
     "output_type": "display_data"
    }
   ],
   "source": [
    "plt.hist(age_values, bins=20)\n",
    "plt.axvline(x = mean_age, color='red', label = 'Średnia')\n",
    "plt.axvline(x = median_age, color='green', label = 'Mediana')\n",
    "plt.axvline(x = mode_age[0], color='orange', label = 'Moda')\n",
    "plt.axvline(x = q0, color='black', label = 'Min')\n",
    "plt.axvline(x = q1, color='black', label = 'Q1')\n",
    "plt.axvline(x = q3, color='black', label = 'Q3')\n",
    "plt.axvline(x = q4, color='black', label = 'Max')\n",
    "plt.legend(loc='upper right')\n",
    "plt.show()"
   ]
  },
  {
   "cell_type": "markdown",
   "id": "88e56787",
   "metadata": {},
   "source": [
    "### Zakres "
   ]
  },
  {
   "cell_type": "code",
   "execution_count": 16,
   "id": "50e0e588",
   "metadata": {},
   "outputs": [
    {
     "name": "stdout",
     "output_type": "stream",
     "text": [
      "79.58\n"
     ]
    }
   ],
   "source": [
    "range_age = max(age_values) - min(age_values)\n",
    "print(range_age)\n"
   ]
  },
  {
   "cell_type": "markdown",
   "id": "80e7acc3",
   "metadata": {},
   "source": [
    "### Rozstęp międzykwartylowy - IQR"
   ]
  },
  {
   "cell_type": "code",
   "execution_count": 17,
   "id": "93da427e",
   "metadata": {},
   "outputs": [
    {
     "name": "stdout",
     "output_type": "stream",
     "text": [
      "18.0\n"
     ]
    }
   ],
   "source": [
    "iqr = q3 - q1\n",
    "print(iqr)"
   ]
  },
  {
   "cell_type": "code",
   "execution_count": 18,
   "id": "5e9cebc0",
   "metadata": {},
   "outputs": [
    {
     "data": {
      "image/png": "[encoded data removed]",
      "text/plain": [
       "<Figure size 640x480 with 1 Axes>"
      ]
     },
     "metadata": {},
     "output_type": "display_data"
    }
   ],
   "source": [
    "plt.boxplot(age_values)\n",
    "plt.show()"
   ]
  },
  {
   "cell_type": "markdown",
   "id": "0546f875",
   "metadata": {},
   "source": [
    "### Wariancja "
   ]
  },
  {
   "cell_type": "code",
   "execution_count": 19,
   "id": "db218477",
   "metadata": {},
   "outputs": [
    {
     "name": "stdout",
     "output_type": "stream",
     "text": [
      "211.01912474630805\n"
     ]
    }
   ],
   "source": [
    "variance_age = np.var(age_values, ddof=1)\n",
    "print(variance_age)"
   ]
  },
  {
   "cell_type": "markdown",
   "id": "834485a0",
   "metadata": {},
   "source": [
    "### Odchylenie standardowe\n",
    " "
   ]
  },
  {
   "cell_type": "code",
   "execution_count": 20,
   "id": "f25a83d0",
   "metadata": {},
   "outputs": [
    {
     "name": "stdout",
     "output_type": "stream",
     "text": [
      "14.526497332334042\n"
     ]
    }
   ],
   "source": [
    "print(variance_age**(1/2))"
   ]
  },
  {
   "cell_type": "code",
   "execution_count": 21,
   "id": "de8350f3",
   "metadata": {},
   "outputs": [
    {
     "name": "stdout",
     "output_type": "stream",
     "text": [
      "14.526497332334042\n"
     ]
    }
   ],
   "source": [
    "standard_deviation_age = np.std(age_values, ddof=1)\n",
    "print(standard_deviation_age)"
   ]
  },
  {
   "cell_type": "markdown",
   "id": "16ec4c77",
   "metadata": {},
   "source": [
    "### Skalowanie zmiennej - Standaryzacja"
   ]
  },
  {
   "cell_type": "code",
   "execution_count": 22,
   "id": "96299161",
   "metadata": {},
   "outputs": [
    {
     "data": {
      "image/png": "[encoded data removed]",
      "text/plain": [
       "<Figure size 640x480 with 1 Axes>"
      ]
     },
     "metadata": {},
     "output_type": "display_data"
    },
    {
     "name": "stdout",
     "output_type": "stream",
     "text": [
      "Średnia: 2.338621049070358e-16\n",
      "Odchylenie standardowe: 1.000701016559981\n"
     ]
    }
   ],
   "source": [
    "scaler_standardized = StandardScaler()\n",
    "standardized_age_values = scaler_standardized.fit_transform(age_values.reshape(-1, 1))\n",
    "plt.hist(standardized_age_values, bins=20)\n",
    "plt.axvline(x = standardized_age_values.mean(), color='red', label = 'Średnia')\n",
    "plt.show()\n",
    "print(f'Średnia: {standardized_age_values.mean()}')\n",
    "print(f'Odchylenie standardowe: {np.std(standardized_age_values, ddof=1)}')"
   ]
  },
  {
   "cell_type": "markdown",
   "id": "4adc60d3",
   "metadata": {},
   "source": [
    "# Skalowanie zmiennej - Min Max Scaler"
   ]
  },
  {
   "cell_type": "code",
   "execution_count": 23,
   "id": "885351c0",
   "metadata": {},
   "outputs": [
    {
     "data": {
      "image/png": "[encoded data removed]",
      "text/plain": [
       "<Figure size 640x480 with 1 Axes>"
      ]
     },
     "metadata": {},
     "output_type": "display_data"
    },
    {
     "name": "stdout",
     "output_type": "stream",
     "text": [
      "Średnia: 0.3679205534940792\n",
      "Odchylenie standardowe: 0.1825395492879372\n"
     ]
    }
   ],
   "source": [
    "scaler_MinMax = MinMaxScaler()\n",
    "normalized_age_values = scaler_MinMax.fit_transform(age_values.reshape(-1, 1))\n",
    "plt.hist(normalized_age_values, bins=20)\n",
    "plt.axvline(x = normalized_age_values.mean(), color='red', label = 'Średnia')\n",
    "plt.show()\n",
    "print(f'Średnia: {normalized_age_values.mean()}')\n",
    "print(f'Odchylenie standardowe: {np.std(normalized_age_values, ddof=1)}')\n"
   ]
  },
  {
   "cell_type": "markdown",
   "id": "fbac2e7a",
   "metadata": {},
   "source": [
    "### Korelacja"
   ]
  },
  {
   "cell_type": "code",
   "execution_count": 24,
   "id": "e48a83ad",
   "metadata": {},
   "outputs": [
    {
     "data": {
      "image/png": "[encoded data removed]",
      "text/plain": [
       "<Figure size 640x480 with 1 Axes>"
      ]
     },
     "metadata": {},
     "output_type": "display_data"
    }
   ],
   "source": [
    "sibsb_values = dataset.loc[dataset['Age'].notnull(), 'SibSp'].values\n",
    "plt.scatter(x=age_values, y=sibsb_values, alpha=0.5)\n",
    "plt.xlabel('Age')\n",
    "plt.ylabel('SibSp')\n",
    "plt.show()"
   ]
  },
  {
   "cell_type": "code",
   "execution_count": 25,
   "id": "a2077f10",
   "metadata": {},
   "outputs": [
    {
     "data": {
      "text/plain": [
       "PearsonRResult(statistic=np.float64(-0.3082467589236567), pvalue=np.float64(3.509025193784285e-17))"
      ]
     },
     "execution_count": 25,
     "metadata": {},
     "output_type": "execute_result"
    }
   ],
   "source": [
    "stats.pearsonr(age_values, sibsb_values)\n"
   ]
  },
  {
   "cell_type": "code",
   "execution_count": null,
   "id": "991c3942",
   "metadata": {},
   "outputs": [],
   "source": []
  }
 ],
 "metadata": {
  "kernelspec": {
   "display_name": "Python 3 (ipykernel)",
   "language": "python",
   "name": "python3"
  },
  "language_info": {
   "codemirror_mode": {
    "name": "ipython",
    "version": 3
   },
   "file_extension": ".py",
   "mimetype": "text/x-python",
   "name": "python",
   "nbconvert_exporter": "python",
   "pygments_lexer": "ipython3",
   "version": "3.12.10"
  }
 },
 "nbformat": 4,
 "nbformat_minor": 5
}
