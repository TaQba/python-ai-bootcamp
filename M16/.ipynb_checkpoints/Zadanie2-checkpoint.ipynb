{
 "cells": [
  {
   "cell_type": "code",
   "execution_count": 20,
   "id": "ea26fc0d",
   "metadata": {},
   "outputs": [],
   "source": [
    "# manipulacja danymi\n",
    "import numpy as np\n",
    "import pandas as pd\n",
    "\n",
    "# wizualizacja\n",
    "import matplotlib.pyplot as plt\n",
    "import seaborn as sns\n",
    "\n",
    "from sklearn.model_selection import train_test_split\n",
    "from sklearn.preprocessing import StandardScaler\n",
    "from sklearn.decomposition import PCA\n",
    "\n",
    "from sklearn.linear_model import LinearRegression\n",
    "from sklearn.model_selection import train_test_split\n",
    "from prettytable import PrettyTable\n",
    "import datetime\n",
    "\n",
    "\n"
   ]
  },
  {
   "cell_type": "markdown",
   "id": "6cda561f",
   "metadata": {},
   "source": [
    "# Regresja  z PCA"
   ]
  },
  {
   "cell_type": "code",
   "execution_count": 28,
   "id": "4105c4c7",
   "metadata": {},
   "outputs": [],
   "source": [
    "bike_data_raw = pd.read_csv('daily-bike-share.csv')\n",
    "bike_data_raw['dteday'] = pd.to_datetime(bike_data_raw['dteday'])\n",
    "\n",
    "bike_data = bike_data_raw.copy()\n",
    "bike_data.drop(['instant', 'dteday', 'yr'], axis=1, inplace=True)\n",
    "numeric_features = ['temp', 'atemp', 'hum', 'windspeed']\n",
    "categorical_features = ['season','mnth','holiday','weekday','workingday','weathersit']\n",
    "target = 'rentals'\n",
    "\n",
    "X = bike_data[['temp']].copy()\n",
    "y = bike_data[target].copy()\n",
    "\n",
    "X_train, X_test, y_train, y_test = train_test_split(X, y, test_size=0.2, shuffle=False)\n",
    "\n",
    "def train_and_check(Xtrain, Xtest, ytrain, ytest):\n",
    "    classifier = LinearRegression()\n",
    "    start = datetime.datetime.now()\n",
    "    classifier.fit(Xtrain, ytrain)\n",
    "    end = datetime.datetime.now()\n",
    "    time = (end - start).microseconds\n",
    "    evaluation = np.round(classifier.score(Xtest, ytest), 4)\n",
    "    return evaluation, time\n",
    "\n",
    "results = PrettyTable(['Model',\n",
    "                       'Dokładność',\n",
    "                       'Czas trenowania (microseconds)'])\n"
   ]
  },
  {
   "cell_type": "code",
   "execution_count": 39,
   "id": "478055a9",
   "metadata": {},
   "outputs": [],
   "source": [
    "\n",
    "scaler = StandardScaler()\n",
    "X_train_scaler = scaler.fit_transform(X_train)\n",
    "X_test_scaler = scaler.transform(X_test)\n",
    "\n",
    "pca = PCA(random_state=42)\n",
    "X_train_pca = pca.fit_transform(X_train_scaler)\n",
    "X_test_pca = pca.transform(X_test_scaler)"
   ]
  },
  {
   "cell_type": "code",
   "execution_count": 47,
   "id": "530f7a40",
   "metadata": {},
   "outputs": [
    {
     "name": "stdout",
     "output_type": "stream",
     "text": [
      "+-------------------+------------+--------------------------------+\n",
      "|       Model       | Dokładność | Czas trenowania (microseconds) |\n",
      "+-------------------+------------+--------------------------------+\n",
      "| Nieskalowane dane |   0.1941   |              2611              |\n",
      "|   Skalowane dane  |   0.1941   |              821               |\n",
      "|        4 PC       |   0.1941   |              1788              |\n",
      "|        3 PC       |   0.1941   |              850               |\n",
      "|        2 PC       |   0.1941   |              803               |\n",
      "|        1 PC       |   0.1941   |              1020              |\n",
      "+-------------------+------------+--------------------------------+\n"
     ]
    }
   ],
   "source": [
    "results = PrettyTable(['Model',\n",
    "                       'Dokładność',\n",
    "                       'Czas trenowania (microseconds)'])\n",
    "\n",
    "# Trenowanie modelu na nieprzetworzonym zbiorze\n",
    "not_scaled_data = train_and_check(X_train, X_test, y_train, y_test)\n",
    "results.add_row(['Nieskalowane dane', not_scaled_data[0], not_scaled_data[1]])\n",
    "\n",
    "# Trenowanie modelu na przetworzonym zbiorze\n",
    "scaled_data = train_and_check(X_train_scaler, X_test_scaler, y_train, y_test)\n",
    "results.add_row(['Skalowane dane', scaled_data[0], scaled_data[1]])\n",
    "\n",
    "# Trenowanie modelu na czterech Głównych Składowych\n",
    "PC4_data = train_and_check(X_train_pca, X_test_pca, y_train, y_test)\n",
    "results.add_row(['4 PC', PC4_data[0], PC4_data[1]])\n",
    "\n",
    "# Trenowanie modelu na trzech Głównych Składowych\n",
    "PC3_data = train_and_check(X_train_pca[:, :3], X_test_pca[:, :3], y_train, y_test)\n",
    "results.add_row(['3 PC', PC3_data[0], PC3_data[1]])\n",
    "\n",
    "# Trenowanie modelu na dwóch Głównych Składowych\n",
    "PC2_data = train_and_check(X_train_pca[:, :2], X_test_pca[:, :2], y_train, y_test)\n",
    "results.add_row(['2 PC', PC2_data[0], PC2_data[1]])\n",
    "\n",
    "# Trenowanie modelu na jednej Głównej Składowej\n",
    "PC1_data = train_and_check(X_train_pca[:, :1], X_test_pca[:, :1],  y_train, y_test)\n",
    "results.add_row(['1 PC', PC1_data[0], PC1_data[1]])\n",
    "\n",
    "print(results)"
   ]
  },
  {
   "cell_type": "markdown",
   "id": "01f3e5cd",
   "metadata": {},
   "source": [
    "# Klasyfikacja  z PCA"
   ]
  },
  {
   "cell_type": "code",
   "execution_count": 54,
   "id": "1b52780b",
   "metadata": {},
   "outputs": [],
   "source": [
    "diabetes = pd.read_csv('diabetes.csv')\n",
    "features = ['Pregnancies','PlasmaGlucose','DiastolicBloodPressure','TricepsThickness','SerumInsulin','BMI','DiabetesPedigree','Age']\n",
    "target = 'Diabetic'\n",
    "X, y = diabetes[features], diabetes[target]\n",
    "X_train, X_test, y_train, y_test = train_test_split(X[['Pregnancies', 'Age']], y, test_size=0.30, random_state=0, stratify=y)\n",
    "\n",
    "\n",
    "from sklearn.neighbors import KNeighborsClassifier\n",
    "\n",
    "def train_and_check(Xtrain, Xtest, ytrain, ytest):\n",
    "    classifier = KNeighborsClassifier(n_neighbors= int(Xtrain.shape[0]*0.001))\n",
    "    start = datetime.datetime.now()\n",
    "    classifier.fit(Xtrain, ytrain)\n",
    "    end = datetime.datetime.now()\n",
    "    time = (end - start).microseconds\n",
    "    evaluation = np.round(classifier.score(Xtest, ytest), 4)\n",
    "    return evaluation, time\n",
    "\n",
    "results = PrettyTable(['Model',\n",
    "                       'Dokładność',\n",
    "                       'Czas trenowania (microseconds)'])"
   ]
  },
  {
   "cell_type": "code",
   "execution_count": 57,
   "id": "0b18f1f2",
   "metadata": {},
   "outputs": [],
   "source": [
    "scaler = StandardScaler()\n",
    "X_train_scaler = scaler.fit_transform(X_train)\n",
    "X_test_scaler = scaler.transform(X_test)\n",
    "\n",
    "pca = PCA(random_state=42)\n",
    "X_train_pca = pca.fit_transform(X_train_scaler)\n",
    "X_test_pca = pca.transform(X_test_scaler)"
   ]
  },
  {
   "cell_type": "code",
   "execution_count": 58,
   "id": "b03e3852",
   "metadata": {},
   "outputs": [
    {
     "name": "stdout",
     "output_type": "stream",
     "text": [
      "+-------------------+------------+--------------------------------+\n",
      "|       Model       | Dokładność | Czas trenowania (microseconds) |\n",
      "+-------------------+------------+--------------------------------+\n",
      "| Nieskalowane dane |   0.8778   |              7027              |\n",
      "|   Skalowane dane  |   0.8758   |              1957              |\n",
      "|        4 PC       |   0.8729   |              1851              |\n",
      "|        3 PC       |   0.8729   |              1816              |\n",
      "|        2 PC       |   0.8729   |              1816              |\n",
      "|        1 PC       |   0.8582   |              1468              |\n",
      "+-------------------+------------+--------------------------------+\n"
     ]
    }
   ],
   "source": [
    "results = PrettyTable(['Model',\n",
    "                       'Dokładność',\n",
    "                       'Czas trenowania (microseconds)'])\n",
    "\n",
    "# Trenowanie modelu na nieprzetworzonym zbiorze\n",
    "not_scaled_data = train_and_check(X_train, X_test, y_train, y_test)\n",
    "results.add_row(['Nieskalowane dane', not_scaled_data[0], not_scaled_data[1]])\n",
    "\n",
    "# Trenowanie modelu na przetworzonym zbiorze\n",
    "scaled_data = train_and_check(X_train_scaler, X_test_scaler, y_train, y_test)\n",
    "results.add_row(['Skalowane dane', scaled_data[0], scaled_data[1]])\n",
    "\n",
    "# Trenowanie modelu na czterech Głównych Składowych\n",
    "PC4_data = train_and_check(X_train_pca, X_test_pca, y_train, y_test)\n",
    "results.add_row(['4 PC', PC4_data[0], PC4_data[1]])\n",
    "\n",
    "# Trenowanie modelu na trzech Głównych Składowych\n",
    "PC3_data = train_and_check(X_train_pca[:, :3], X_test_pca[:, :3], y_train, y_test)\n",
    "results.add_row(['3 PC', PC3_data[0], PC3_data[1]])\n",
    "\n",
    "# Trenowanie modelu na dwóch Głównych Składowych\n",
    "PC2_data = train_and_check(X_train_pca[:, :2], X_test_pca[:, :2], y_train, y_test)\n",
    "results.add_row(['2 PC', PC2_data[0], PC2_data[1]])\n",
    "\n",
    "# Trenowanie modelu na jednej Głównej Składowej\n",
    "PC1_data = train_and_check(X_train_pca[:, :1], X_test_pca[:, :1],  y_train, y_test)\n",
    "results.add_row(['1 PC', PC1_data[0], PC1_data[1]])\n",
    "\n",
    "print(results)"
   ]
  },
  {
   "cell_type": "code",
   "execution_count": null,
   "id": "670235be",
   "metadata": {},
   "outputs": [],
   "source": []
  }
 ],
 "metadata": {
  "kernelspec": {
   "display_name": "Python 3 (ipykernel)",
   "language": "python",
   "name": "python3"
  },
  "language_info": {
   "codemirror_mode": {
    "name": "ipython",
    "version": 3
   },
   "file_extension": ".py",
   "mimetype": "text/x-python",
   "name": "python",
   "nbconvert_exporter": "python",
   "pygments_lexer": "ipython3",
   "version": "3.12.11"
  }
 },
 "nbformat": 4,
 "nbformat_minor": 5
}
